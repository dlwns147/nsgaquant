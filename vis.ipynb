{
 "cells": [
  {
   "cell_type": "code",
   "execution_count": null,
   "metadata": {
    "vscode": {
     "languageId": "plaintext"
    }
   },
   "outputs": [],
   "source": [
    "import os\n",
    "import json\n",
    "from utils.func import get_net_info\n",
    "import matplotlib.pyplot as plt\n",
    "import numpy as np\n",
    "\n",
    "fig_path='fig/vis_cand.png'\n",
    "model_name = 'Llama-2-7b-hf'\n",
    "arch_folder = f'/NAS/SJ/nsgaquant/save/search/2411211754_{model_name}_bits_loss_hqq_iter_300_nsga2_234_obj_2_4_jsd_mut_0.05_layer_prune_1.0_1.0'\n",
    "iter = 299\n",
    "config_path = 'config/llama.json'\n",
    "fig_path = 'fig/bit_sparsity.png'\n",
    "\n",
    "with open(config_path, 'r') as f:\n",
    "    config = json.load(f)[model_name]\n",
    "\n",
    "with open(os.path.join(arch_folder, f'iter_{iter}.stats'), 'r') as f:\n",
    "    arch = json.load(f)\n",
    "# archive = [a[0] for a in arch['archive']]\n",
    "candidates = [a[0] for a in arch['candidates']]\n",
    "\n",
    "cand_arch = list()\n",
    "cand_avg_bits = list()\n",
    "cand_linear_bits = {l: [] for l in config['linear']}\n",
    "\n",
    "for arch in candidates:\n",
    "    arch_concat = np.concatenate(list(arch['linear'].values()))\n",
    "    bits = get_net_info(arch, config)['bits']\n",
    "    cand_arch.append(arch_concat)\n",
    "    cand_avg_bits.append(bits)\n",
    "    # for linear in config['linear']:\n",
    "    #     cand_linear_bits[linear].append()\n",
    "\n",
    "cand_arch = np.stack(cand_arch, axis=1)\n",
    "print(f'cand_arch : {cand_arch.shape}')\n",
    "print(f'cand_avg_bits : {len(cand_avg_bits)}')\n",
    "\n",
    "plt.boxplot([a for a in cand_arch])\n",
    "plt.show()\n",
    "plt.savefig(fig_path, dpi=300)\n",
    "# plt.scatter(cand_avg_bits, )"
   ]
  }
 ],
 "metadata": {
  "language_info": {
   "name": "python"
  }
 },
 "nbformat": 4,
 "nbformat_minor": 2
}
